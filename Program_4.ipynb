{
 "cells": [
  {
   "cell_type": "markdown",
   "metadata": {},
   "source": [
    "5) Count number of trees in a forest."
   ]
  },
  {
   "cell_type": "code",
   "execution_count": null,
   "metadata": {},
   "outputs": [],
   "source": [
    "from collections import defaultdict\n",
    "\n",
    "class Graph:\n",
    "    def __init__(self):\n",
    "        self.graph = defaultdict(list)\n",
    "\n",
    "    def add_edge(self, u, v):\n",
    "        self.graph[u].append(v)\n",
    "        self.graph[v].append(u)\n",
    "\n",
    "    def dfs(self, vertex, visited):\n",
    "        visited.add(vertex)\n",
    "        for neighbor in self.graph[vertex]:\n",
    "            if neighbor not in visited:\n",
    "                self.dfs(neighbor, visited)\n",
    "\n",
    "    def count_trees(self):\n",
    "        visited = set()\n",
    "        count = 0\n",
    "        for vertex in self.graph:\n",
    "            if vertex not in visited:\n",
    "                count += 1\n",
    "                self.dfs(vertex, visited)\n",
    "        return count\n",
    "\n",
    "g = Graph()\n",
    "edges = int(input(\"Enter the number of edges: \"))\n",
    "for _ in range(edges):\n",
    "    u, v = map(int, input(\"Enter edge (u v): \").split())\n",
    "    g.add_edge(u, v)\n",
    "\n",
    "result = g.count_trees()\n",
    "print(f\"Number of trees in the forest: {result}\")"
   ]
  }
 ],
 "metadata": {
  "language_info": {
   "name": "python"
  }
 },
 "nbformat": 4,
 "nbformat_minor": 2
}
