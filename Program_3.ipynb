{
 "cells": [
  {
   "cell_type": "markdown",
   "metadata": {},
   "source": [
    "3) Count the number of nodes at given level in a tree using BFS."
   ]
  },
  {
   "cell_type": "code",
   "execution_count": null,
   "metadata": {},
   "outputs": [],
   "source": [
    "from collections import defaultdict, deque\n",
    "\n",
    "class Graph:\n",
    "    def __init__(self):\n",
    "        self.graph = defaultdict(list)\n",
    "\n",
    "    def add_edge(self, u, v):\n",
    "        self.graph[u].append(v)\n",
    "\n",
    "    def count_nodes_at_level(self, start, level):\n",
    "        visited = set()\n",
    "        queue = deque([(start, 0)])\n",
    "        count = 0\n",
    "\n",
    "        while queue:\n",
    "            vertex, current_level = queue.popleft()\n",
    "\n",
    "            if current_level == level:\n",
    "                count += 1\n",
    "\n",
    "            if vertex not in visited:\n",
    "                visited.add(vertex)\n",
    "\n",
    "                for neighbor in self.graph[vertex]:\n",
    "                    if neighbor not in visited:\n",
    "                        queue.append((neighbor, current_level + 1))\n",
    "\n",
    "        return count\n",
    "\n",
    "g = Graph()\n",
    "edges = int(input(\"Enter the number of edges: \"))\n",
    "for _ in range(edges):\n",
    "    u, v = map(int, input(\"Enter edge (u v): \").split())\n",
    "    g.add_edge(u, v)\n",
    "\n",
    "start_vertex = int(input(\"Enter the starting vertex: \"))\n",
    "target_level = int(input(\"Enter the target level: \"))\n",
    "\n",
    "result = g.count_nodes_at_level(start_vertex, target_level)\n",
    "print(f\"Number of nodes at level {target_level}: {result}\")"
   ]
  }
 ],
 "metadata": {
  "language_info": {
   "name": "python"
  }
 },
 "nbformat": 4,
 "nbformat_minor": 2
}
