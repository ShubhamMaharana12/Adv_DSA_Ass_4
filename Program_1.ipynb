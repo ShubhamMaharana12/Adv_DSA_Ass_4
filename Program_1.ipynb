{
 "cells": [
  {
   "cell_type": "markdown",
   "metadata": {},
   "source": [
    "1) Breadth First Traversal for a Graph."
   ]
  },
  {
   "cell_type": "code",
   "execution_count": null,
   "metadata": {},
   "outputs": [],
   "source": [
    "from collections import defaultdict, deque\n",
    "\n",
    "class Graph:\n",
    "    def __init__(self):\n",
    "        self.graph = defaultdict(list)\n",
    "\n",
    "    def add_edge(self, u, v):\n",
    "        self.graph[u].append(v)\n",
    "\n",
    "    def bfs(self, start):\n",
    "        visited = set()\n",
    "        queue = deque([start])\n",
    "\n",
    "        while queue:\n",
    "            vertex = queue.popleft()\n",
    "            if vertex not in visited:\n",
    "                print(vertex, end=\" \")\n",
    "                visited.add(vertex)\n",
    "\n",
    "                for neighbor in self.graph[vertex]:\n",
    "                    if neighbor not in visited:\n",
    "                        queue.append(neighbor)\n",
    "\n",
    "g = Graph()\n",
    "edges = int(input(\"Enter the number of edges: \"))\n",
    "for _ in range(edges):\n",
    "    u, v = map(int, input(\"Enter edge (u v): \").split())\n",
    "    g.add_edge(u, v)\n",
    "\n",
    "start_vertex = int(input(\"Enter the starting vertex: \"))\n",
    "print(\"BFS Traversal:\")\n",
    "g.bfs(start_vertex)"
   ]
  }
 ],
 "metadata": {
  "language_info": {
   "name": "python"
  }
 },
 "nbformat": 4,
 "nbformat_minor": 2
}
